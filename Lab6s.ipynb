{
 "cells": [
  {
   "cell_type": "markdown",
   "metadata": {},
   "source": [
    "### Align the reads to the human genome\n",
    "1>Using bowtie2 command on the terminal to map the reads to the human genome.  \n",
    "2>Remove any contamination.  \n",
    "##### The detailed codes used in the terminal are shown below.  \n",
    "##### bowtie2 -p 4 --very-fast -- no-unal-x /data/hg19/hg19 -U /data/lab6/illumina_reads.fastq -S humangenome_align.sam --ungenome_align.sam --un humangenome_unaligned.fastq\n",
    "-x specifies the path to the database you want to align your reads to. \n",
    "In this case, the database containing the human genome (data/hg19/hg19) \n",
    "\n",
    "-U specifies the path to your input reads in FASTQ format.\n",
    "In this case, the input read is the read from the sequencing run at (data/lab6/illumina_reads.fastq)\n",
    "\n",
    "-S specifies the path to the output SAM file \n",
    "\n",
    "--un tells Bowtie to dump the reads that couldn’t be aligned into a separate FASTQ file.\n"
   ]
  },
  {
   "cell_type": "markdown",
   "metadata": {},
   "source": [
    "#### The result \n",
    "be131-12@meowth:~$ bowtie2 -p 4 --very-fast --no-unal -x /data/hg19/hg19 -U /data/lab6/illumina_reads.fastq -S humangenome_align.sam --un humangenome_unaligned.fastq  \n",
    "1124714 reads; of these:  \n",
    "  \n",
    "  1124714 (100.00%) were unpaired; of these:  \n",
    "    \n",
    "    1028379 (91.43%) aligned 0 times  \n",
    "    \n",
    "    87274 (7.76%) aligned exactly 1 time  \n",
    "    \n",
    "    9061 (0.81%) aligned >1 times  \n",
    "8.57% overall alignment rate"
   ]
  },
  {
   "cell_type": "markdown",
   "metadata": {},
   "source": [
    "#### Analysis:\n",
    "In all the reads, there are is 7.76% aligned 1 time with human genome and 0.81% aligned > 1 time. So the percentage of the sequencing library came from contaminating human DNA is totally 8.57%.\n",
    "\n",
    "As the result, the output humangenome_align.sam file contains 8.57% aligned human genome, which is the contaminated DNA. And the unaligned humangenome fastq file filtered out the part we want. "
   ]
  },
  {
   "cell_type": "markdown",
   "metadata": {},
   "source": [
    "### Align the reads to the S. oneidensis reference genome\n",
    "1> Using the filtered reads obtained in the first step as input.  \n",
    "2> The Shewanella reference genome serves as a database.  \n",
    "3> Makes alignment  \n",
    "The detailed codes and results are presented below."
   ]
  },
  {
   "cell_type": "markdown",
   "metadata": {},
   "source": [
    "### The result ran under very-fast condition\n",
    "be131-12@meowth:~$ bowtie2 -p 4 --very-fast --no-unal -x /data/lab6/shewanella_oneidensis_mr-1 -U humangenome_unaligned.fastq -S shewanella_aligned.sam --un shewanella_unaligned.fastq\n",
    "1028379 reads; of these:  \n",
    "  \n",
    "  1028379 (100.00%) were unpaired; of these:\n",
    "    \n",
    "    299560 (29.13%) aligned 0 times\n",
    "    \n",
    "    687571 (66.86%) aligned exactly 1 time\n",
    "    \n",
    "    41248 (4.01%) aligned >1 times\n",
    "70.87% overall alignment rate\n",
    "\n",
    "### The result ran under very-sensitive condition\n",
    "be131-12@meowth:~$ bowtie2 -p 4 --very-sensitive --no-unal -x /data/lab6/shewanella_oneidensis_mr-1 -U humangenome_unaligned.fastq -S shewanella_aligned.sam --un shewanella_unaligned.fastq\n",
    "1028379 reads; of these:  \n",
    "    \n",
    "  1028379 (100.00%) were unpaired; of these:\n",
    "    \n",
    "    298112 (28.99%) aligned 0 times\n",
    "    \n",
    "    688180 (66.92%) aligned exactly 1 time\n",
    "    \n",
    "    42087 (4.09%) aligned >1 times\n",
    "71.01% overall alignment rate\n",
    "\n"
   ]
  },
  {
   "cell_type": "markdown",
   "metadata": {},
   "source": [
    "#### Analysis\n",
    "The shewanella_aligned.sam contains human genome reads that are aligned to the S. oneidensis (70.87%, which is the one we want). And the shewanella_unaligned.fastq filtered the library does not aligned with S. oneidensis genome (29.13%) \n",
    "\n",
    "After we changed to the very-sensitive mode, the precentage of the alignment increases to 71.01%. "
   ]
  },
  {
   "cell_type": "markdown",
   "metadata": {},
   "source": [
    "### Generate a coverage plot  \n",
    "1.Convert SAM file got from the previous step to BAM, sort it, index it, and use “depth” to generate a file containing the depth of coverage for every position in the reference genome.\n",
    "#### The codes used in the terimal \n",
    "samtools view -b shewanella_aligned.sam > shewanella_aligned.bam  \n",
    "\n",
    "samtools sort shewanella_aligned.bam > shewanella_aligned.sorted.bam \n",
    "\n",
    "samtools index shewanella_aligned.sorted.bam     \n",
    "\n",
    "samtools depth -a shewanella_aligned_sorted.bam > pileup.tab  \n",
    "\n",
    "\n",
    "#### Four output files had been generated in the sequence as below:\n",
    "shewanella_aligned.bam  \n",
    "shewanella_aligned_sorted.bam  \n",
    "shewanella_aligned_sorted.bam.bai  \n",
    "pileup.tab\n",
    "\n",
    "2.upload the depth file into iPython and use matplotlib to generate a plot\n",
    "where the x-axis is position in the genome and the y-axis is depth of coverage.\n",
    "\n",
    "3.using the same data, generate a coverage histogram to see what the distribution of coverage\n",
    "depth looks like."
   ]
  },
  {
   "cell_type": "code",
   "execution_count": 1,
   "metadata": {
    "scrolled": true
   },
   "outputs": [
    {
     "data": {
      "image/png": "[encoded data removed]",
      "text/plain": [
       "<Figure size 432x288 with 1 Axes>"
      ]
     },
     "metadata": {
      "needs_background": "light"
     },
     "output_type": "display_data"
    }
   ],
   "source": [
    "%matplotlib inline\n",
    "import numpy as np\n",
    "import matplotlib.pyplot as plt\n",
    "import csv\n",
    "x, y = [], []\n",
    "#data=open('pileup.tab','r')\n",
    "\n",
    "# Get the data from the depth file, x is the position in the genome, and y is the depth of converage \n",
    "with open('pileup.tab','r') as csvfile:\n",
    "    plots = csv.reader(csvfile, delimiter='\\t')\n",
    "    for i in plots:\n",
    "        x.append(int(i[1]))   \n",
    "        y.append(int(i[2])) \n",
    "\n",
    "plt.plot(x,y)\n",
    "plt.xlabel('Position in Genome')\n",
    "plt.ylabel('Depth of Coverage')\n",
    "plt.show()"
   ]
  },
  {
   "cell_type": "code",
   "execution_count": 2,
   "metadata": {},
   "outputs": [
    {
     "data": {
      "image/png": "[encoded data removed]",
      "text/plain": [
       "<Figure size 432x288 with 1 Axes>"
      ]
     },
     "metadata": {
      "needs_background": "light"
     },
     "output_type": "display_data"
    },
    {
     "name": "stdout",
     "output_type": "stream",
     "text": [
      "The minimum coverage: \n",
      "0\n",
      "The maximum coverage: \n",
      "269\n",
      "The average coverage: \n",
      "36.955644792125895\n"
     ]
    }
   ],
   "source": [
    "# plot the histogram plot \n",
    "num_bins = 80\n",
    "plt.xlim([0,100])\n",
    "\n",
    "plt.hist(y, num_bins)\n",
    "plt.ylabel('Count')\n",
    "plt.xlabel('Depth of Coverage')\n",
    "plt.show()\n",
    "print(\"The minimum coverage: \")\n",
    "print(min(y))\n",
    "print(\"The maximum coverage: \")\n",
    "print(max(y))\n",
    "print(\"The average coverage: \")\n",
    "print(np.mean(y))"
   ]
  },
  {
   "cell_type": "markdown",
   "metadata": {},
   "source": [
    "#### Analysis:\n",
    "After the calculation, we found out that the minimum coverage value is 0, maximum is 269, and the mean is around 37 across all positions in genome. There are 2 peaks of depth of coverage which appear between position 3000000 and 5000000 in genome. \n",
    "The histrogram graph shows the distrubution of the depth of coverage. Most counts appear at deapth of coverage= 40, and the count is nearly 700000."
   ]
  },
  {
   "cell_type": "markdown",
   "metadata": {},
   "source": [
    "### Extra Credit1: \n",
    "\n",
    "1.Convert human SAM file got from the previous step to BAM, sort it, index it, and use “depth” to generate a file containing the depth of coverage for every position in the reference genome.\n",
    "#### The codes used in the terimal \n",
    "samtools view -b humangenome_align.sam > humangenome_align.bam \n",
    "\n",
    "samtools sort humangenome_align.bam > humangenome_aligned_sort.bam  \n",
    "\n",
    "samtools index humangenome_aligned_sort.bam     \n",
    "\n",
    "samtools depth humangenome_aligned_sort.bam > SApileup.tab \n",
    "\n",
    "\n",
    "#### Four output files had been generated in the sequence as below:\n",
    "humangenome_align.bam  \n",
    "humangenome_aligned_sort.bam  \n",
    "humangenome_aligned_sort.bam.bai  \n",
    "SApileup.tab \n",
    "\n",
    "2.upload the depth file into iPython and use matplotlib to generate a plot average depth (total depth / length of chromosome) for each human\n",
    "chromosome: chr1-22, X, and Y.\n",
    "\n",
    "3.using the same data, generate a coverage histogram to see what the distribution of coverage\n",
    "depth looks like.\n",
    "    "
   ]
  },
  {
   "cell_type": "code",
   "execution_count": 3,
   "metadata": {},
   "outputs": [],
   "source": [
    "# Getting data from the human genome\n",
    "totalDepth={}\n",
    "totalChro={}\n",
    "average=[]\n",
    "data=open('SApileup.tab','r')\n",
    "# Get the data from the depth file, x is the position in the genome, and y is the depth of converage \n",
    "x,y=[],[]\n",
    "for i in data.readlines():\n",
    "    i=i.strip()\n",
    "    columns=i.split()\n",
    "    x.append(int(columns[1]))\n",
    "    y.append(int(columns[2]))\n",
    "    if len(columns[0])<=5:\n",
    "        totalDepth[columns[0]]=totalDepth.get(columns[0],0)+int(columns[2])\n",
    "        totalChro[columns[0]]=totalChro.get(columns[0],0)+1\n",
    "\n"
   ]
  },
  {
   "cell_type": "code",
   "execution_count": 4,
   "metadata": {},
   "outputs": [
    {
     "data": {
      "image/png": "[encoded data removed]",
      "text/plain": [
       "<Figure size 432x288 with 1 Axes>"
      ]
     },
     "metadata": {
      "needs_background": "light"
     },
     "output_type": "display_data"
    },
    {
     "name": "stdout",
     "output_type": "stream",
     "text": [
      "The total length  of the Jamie's X-chromosome:\n",
      "1508504\n",
      "The total length  of the Jamie's Y-chromosome:\n",
      "244099\n"
     ]
    },
    {
     "data": {
      "image/png": "[encoded data removed]",
      "text/plain": [
       "<Figure size 432x288 with 1 Axes>"
      ]
     },
     "metadata": {
      "needs_background": "light"
     },
     "output_type": "display_data"
    }
   ],
   "source": [
    "#A plot average depth (total depth / length of chromosome) for each human chromosome: chr1-22, X, and Y.\n",
    "Depth=[depth for depth in totalDepth.values()]\n",
    "Chrototal=[chro for chro in totalChro.values()]\n",
    "Average=[]\n",
    "Xlabel=['1','2','3','4','5','6','7','8','9','10','11','12','13','14','15','16','17','18','19','20','21','22','x','y']\n",
    "for i in range(len(Depth)):\n",
    "    Average.append(Depth[i]/Chrototal[i])\n",
    "plt.plot(Xlabel,Average)\n",
    "plt.ylabel('Average Depth of Coverage')\n",
    "plt.xlabel('Chromosome')\n",
    "plt.show()\n",
    "\n",
    "print('The total length  of the Jamie\\'s X-chromosome:')\n",
    "print(Chrototal[22])\n",
    "print('The total length  of the Jamie\\'s Y-chromosome:')\n",
    "print(Chrototal[23])\n",
    "\n",
    "\n",
    "#Generate a coverage histogram to see what the distribution of coverage depth looks like.\n",
    "num_bins = 80\n",
    "plt.hist(Average, num_bins)\n",
    "plt.ylabel('Count')\n",
    "plt.xlabel('Averge Depth of Coverage')\n",
    "plt.show()"
   ]
  },
  {
   "cell_type": "markdown",
   "metadata": {},
   "source": [
    "### Analysis\n",
    "From the data presented above, Jamie is a male which contains Y chromosome. However, the total length of his X chromosome(1508504) is much greath than the total length of his Y-chromosome(244099). Sincce the result from the Researchgat, the normal ratio of the X to Y is 2.61: 1. We suspect that his sexual chromosom is XXY. \n",
    "\n",
    "Based on the data obtained from the histogram, most the average depth of coverage distrubute within 1.0 range. There is one outlier. Its average depth of coverage is around 1.0015. This could results from the high value of the total length of the X-chromosome. \n"
   ]
  },
  {
   "cell_type": "markdown",
   "metadata": {},
   "source": [
    "#### Extra Credit 2: \n",
    "Try to “zoom in” on regions that seem to have higher coverage than average. Can you figure out what genes are in those regions? You’ll have to extract the sequence from those regions and BLAST it."
   ]
  },
  {
   "cell_type": "code",
   "execution_count": 5,
   "metadata": {},
   "outputs": [
    {
     "name": "stdout",
     "output_type": "stream",
     "text": [
      "Average depth of all chromosomes is 0.9999902623705493\n",
      "Get the ceiling of the total average, so the average is 1\n",
      "The position of the gene greater than average:\n",
      "[84306892, 45285619, 30510261, 34688969, 33097974, 18485047, 27170225]\n"
     ]
    }
   ],
   "source": [
    "import math\n",
    "# compute the average depth of all chromosomes\n",
    "ave_total_depth=sum(Depth)/sum(Chrototal)\n",
    "# print the total average\n",
    "print(\"Average depth of all chromosomes is {}\".format(ave_total_depth))\n",
    "print(\"Get the ceiling of the total average, so the average is {}\".format(math.ceil(ave_total_depth)))\n",
    "# Based on the calculation, the average is 1, create a list storing the position greater than average depth\n",
    "greater1=[];\n",
    "for i in range(len(y)):\n",
    "    if y[i] > math.ceil(ave_total_depth):\n",
    "        greater1.append(x[i])\n",
    "        \n",
    "# create the list to store the start and end position of each gene at the greater1 list\n",
    "start, end = [0], []\n",
    "for i in range(1, len(greater1)):\n",
    "    if abs(greater1[i] - greater1[i-1]) > 1:\n",
    "        start.append(i)\n",
    "        end.append(i-1)\n",
    "end.append(len(greater1)-1)\n",
    "\n",
    "greaterThanAvgPos = []\n",
    "for i in range(len(start)):\n",
    "    greaterThanAvgPos.append(greater1[start[i]])\n",
    "print(\"The position of the gene greater than average:\")\n",
    "print(greaterThanAvgPos)\n",
    "\n",
    "\n"
   ]
  },
  {
   "cell_type": "markdown",
   "metadata": {},
   "source": [
    "After we get the position of the gene we interest at, we can read it into the human genome file"
   ]
  },
  {
   "cell_type": "code",
   "execution_count": 6,
   "metadata": {},
   "outputs": [
    {
     "name": "stdout",
     "output_type": "stream",
     "text": [
      "read77943\t16\tchrY\t18485047\t1\t300M\t*\t0\t0\tTTGTAAACTCTTACAATGAACTCATAAAGTTAGAACAAAGTTAAAAATAATTGCTATCTAAGTATCAGAGTTAGAATAAATTATTCCCAAGGTTTCCCCTCACTTTAAGTTTCCCTGATTCTTGTATTTTTTACTTAAATTGGATATACAATTACTATTTTTTCATTATTTAATTCATAATACATTTGGTAAAATAATTTCTTTTTAAGTAAAACATTTAATAGTGCAGTTTGGTTCGTGTTAATTATACTTCAACGAACCCCTTATGTTACTTGCCTAGTGACAGAGTATGTGGGTAAA\tBGFGFB5=>@GFFFG'GFFGEAFFGCF4=>FFFG1D@<BD7@4E?F0DCGEGFFGGC7>:>CDG-GFGGAGGGGGEGGFB=FEGFFGFGCGEEFGEGFFGG?FFBCGAGGGEEGGGAGGDGDG@?GD/EGFGF-<:FDFGG46G9GFFAFFGFGGGFGGCGE&FGFGFGGGEGG>DFG(EEGGGFEGG:DFGGGFGGGFG:GGGGGFGFBEGAFCCFFGGFEGGGGGGGGGG7AEFEGFFGCGGG;GGGGDFFFEG:GGEEFFGGEGGGGDGEC<FGAGCGG6GFGBD4EGGGGCGGGFG\tAS:i:-5\tXS:i:-5\tXN:i:0\tXM:i:1\tXO:i:0\tXG:i:0\tNM:i:1\tMD:Z:154T145\tYT:Z:UU\n",
      "\n",
      "read334190\t16\tchr15\t30510261\t1\t300M\t*\t0\t0\tTGCCTTTTTGTAACTTAATCTCAGAAGTGACATCTGCTGTGTTCTGTATGTTAGAAGTGAGTCACTAAGTCCAGCTGAAACTCAGGGGAGGGCTTGCCTACCAGGAGGCAGGAATCACCAGGACCCATCAGAGACACCGTCTACCCCAGTCTGTGCTCGGGTCCTTCATGTCTCTCCCTCCTGAAATTTGATAGATTCTGCAAAAGAAAAAGCCTTGATCCACGCTGCTTTCTAGAATGTTGTAGTGAAAAGCAAGTCAGTGTGGTACATTCAGAGTAATTTTATAATTTTATAATTTAA\t86FG9FDGGF@GFBCAECFFEC61E=GGCED&)GGGGGDC:DE=4EG=GGGG>@9FGGDEG6FEGGFD@A;FDCCGEEFFGFGGAGGGGF.FCEBE5FFFBB>=GGFGD>G2GBE:8FF4GGGAGGE/6GGGGGE4/C'GGGG?DFBFGD5G4EGGFGEGFGGFGBCGGFGGCFGFFFDGFEGFGGDG@FG1GD;GFEGA:C+EGFFGGG?CGGGGFGGGG=FFGGGCGBCF,G@45<8BFFG<GGFG?@GDGFDGGDFGGGFGG2GDEGGFFGGGF8GFGGGGGE;GBGFFGGGGGGGG\tAS:i:0\tXS:i:0\tXN:i:0\tXM:i:0\tXO:i:0\tXG:i:0\tNM:i:0\tMD:Z:300\tYT:Z:UU\n",
      "\n",
      "read507912\t16\tchrY\t27170225\t1\t300M\t*\t0\t0\tATGTCCTGTTTTTACGTGTGACAGTTGGCTGCAACCATGTGGGATGATGACAGTTATTTCTGTCAGCTGGGTTTGCATACAGGACTCACAATTTCACCTGTGTGCTGAGTGCTACATTGGTTCTGCTTGTATAACCCAAAGACTCTATAAAAGTATGTGTCAATGTTGTAATCTTTTGTGATGTTTGTACAAGAATGTGATCCATGATATCACACATGTCCCTACACCTAGTTATAAGAGCCTAAATATTCTCTATTTGCTGAGTTCACATCTAAGAGTCGTTATCATTCCTGCGAGCCT\tF@FB73FF0F6DB;F9GG<D:EDEG>09@-F5F<FA@BD:EDAFFFA9GGD<FGD*E>DF7FC,EGGGGD4GFFFGGF=AGGGFGGGFFFGFGF@3DBFGGGF;FFFFGFGFGGFG+0B8FGGFC5?BEGGGGGG?GCG>DFGFEFEGGGD7GBGFBFGCGDD08GGGEGFFBCGGGGGFBDCGGDFGFDGGGGGGFGGGGGGCFF/GGGGGGFGGFGGCAGGGEF=CDGEFGGGDCFGGCGGDFFEFFGGGFBGCDFGGGGG+3GCG>D*GGGF>GGGG>GGGCEFDE?CFGGGGGGFG\tAS:i:0\tXS:i:0\tXN:i:0\tXM:i:0\tXO:i:0\tXG:i:0\tNM:i:0\tMD:Z:300\tYT:Z:UU\n",
      "\n",
      "read515325\t0\tchr12\t45285619\t42\t300M\t*\t0\t0\tAATTGGGTAGAATATGGTTCCATCCCCTGCCTTGAGAGGATCTCAGAACAATATGTTTTGCTAATTATGCAAATATATTTATCAACTGTATGAGTAAAGTAGCCTATAATTTAAAGACTGAGGACTTGTTTTCAAACACATCACAGTAATGAAATGAGCCTATTCCAACAGTATATTCATGGTGCTATGGTTTCCTTTCTAAGCATGGTGATTGTTTCACACTGGGCAAGACATCTGGTGAAGTTGAGAGGCTGTCACCCAGCTGAGAGAATATGTGCATGGTTGGGAGTAGAATTTCCT\tCCCCCGGGGGGGGGGGGFGGGGGGGGGGGGGGGGGGGGGGGGGGGGGGGGGGGGGGGGGGGGFGGGGGGGGGGGGGGFGFFGGGGFGFGGGGGGFGGAGGGEGEGGGGGGGGGGGGGGGGGGFGGGGGGGGGGGGGGGGGGGGFFBEFGGEFFFFAECEAFFEEA@:C@D9C@9@C@EEFFEG9>FC;=EB=DEFFFGGF7C,8,8EEEC777@DFCA:8@666B,6@D6@6D@E9@=EE@E,@;,@5@,+;A7C?CG<F>7C?5?*+33;F8CDF99:EDCDCE59;0?4=8===FFFC\tAS:i:-3\tXN:i:0\tXM:i:1\tXO:i:0\tXG:i:0\tNM:i:1\tMD:Z:204C95\tYT:Z:UU\n",
      "\n",
      "read781959\t16\tchr16\t33097974\t1\t300M\t*\t0\t0\tAGGTCAAACGAAACACCTAACATTGCTAGGGCAGCCTCCCACAACAAAGAATCCTCTGGTCCTAAAGGTAAGTAGCACCAAGATTGAGAAACCATAATCTAGACAGGAAACACTACGTAGCTATTCCAAGTGCGCAGGAAAGCACATCAGTGCCCTCGAGGGGAAAAGTGTAAACATTTTAATTGCTGTACATGGTGACACAAATCCATGTTGTTAATCTAAGTGGAAGGGGCTGAAGCACAAAACATAATTCAAAGAGTTTACTTGAGCCACAATGAGGACAGCTGCCTGGAAGAAACA\t0@GEE)DGF.AEFFD57FD%EG=GGF@==DFGGG5AF??FA0GGEGFDD<BCGEE<59FGGGGGGGF-GFBGB<GAGGGEGBGF?DGGGCGADEFCFEGDFGGG3G;(FFFFFCCCBGGGF:EGEFECE@EFDD>FGGGF5GGGFBGGGFEEGG7GEF;FGGFGG4GGG4EDGGGGC<FFFGGGGGGEECD@7GGDGGGGFEG<GFGG<EGECAGG;GGFEGFD8-GG@FGGEG>GGB>CCGGGE<CFEGACDGFGGBGGG6:GEGEGGFFFDGGGE@GGGFGGG4@@FF.EGGGGAE>&\tAS:i:-5\tXS:i:-5\tXN:i:0\tXM:i:1\tXO:i:0\tXG:i:0\tNM:i:1\tMD:Z:141A158\tYT:Z:UU\n",
      "\n",
      "read854980\t0\tchr7\t84306892\t42\t300M\t*\t0\t0\tTTGTGCTTTGGCAACATTTGTTGTTGTTTGTGAATCACAGCTATGTTCAGTGGTATGTGACTTGCCTCTCGGCACCCAGGAGGCATCAGCAAAAACACCTGTGGCCCAATAAACCACAATTTTTGGGTCCAGTAAATTGGTCAATACACAGCCCACACCAAAATATCACTGAATTTGGCTTTGTATATTTGGTCATTTGATAACCATTCTGCAAAACTGACCCAATTTTTACTGGTTAAAGAACAATATTGCAGGAAAGTAGAGGCAGACAGCTTTTTAAGTCCTTTAAAATGATACAAC\tGGGEFGGGGGGGC7GGDFFGGFFGDEFFF?GGGEGG>GBGFFGBEGEDGG6GFFGGGGGGCGG>FGCGFGBEGG=BG@GEGFFGFGGF?@CGGGGGGEGGGGGGEFFFEG?'GGFGGEFFFFFFFFGC;FGDGEGFEF?DFGGGGFGGGGG17GGGGDGGGGG6GEGGGGGDGGGGGEG8GEG<GGFDFGGGG7EAFG@DGFEGGF6GDFFFEEGB<D6GE@GA9GGFGAE?G>EF@DGG:4$C>:GGG>F=/?GGFGFG*A97GGGGEBGGGC@FG;9%FDFCBG;24@EF45GF/=+.\tAS:i:0\tXN:i:0\tXM:i:0\tXO:i:0\tXG:i:0\tNM:i:0\tMD:Z:300\tYT:Z:UU\n",
      "\n",
      "read1019002\t0\tchr15\t34688969\t1\t300M\t*\t0\t0\tTATTTTAGACCTCATTCTGATCTCCCTCTCCCCGCCAACCCCACCAACTTCTGCCCTGTCATTTATCCTCATATCTCTCTGTGTAACATATTGACTTACTTTTTGGAGATAATGGTCTAACCAATTAATCCTTTCTTCTGGTGTCTAATCCATCCACTCGGTTTCTTATTTCAACAATTCCATTTTATATTTCCTTATTTCATTTTATTCTGAGACAGAGTCTCACTCTGTCACCCAGGCTGGACTGTAGTGGCACGAACCTGCAGCCCTGGCCTCCTGGGCTCAAGTGATCCTCCCACC\tCFEGFGFGGAFF?CGGEFB4D3CGGGGGCF;GCBFFGG984EEFGEFGGGGGGGCFF>G1&BFG?0G,4G2@@GFFFGFGGEDGFGEGGG:'BEGGGG/GGGF;CFDGGE=GGFGGFGE==GGGGGGGGG:2GGGGFGFGGGGGG6GGGCEG??GFB/A9FGGGGEGFGFDFG51DGEG5GGGFGFGGFDFE(GGBFGGCGFEE(3G<CGACBA;-DE>;FEGGGGE::GFEDFDFFG>F@CGC:@DE@:FEGGEDE5EGGFFGG6(GEFDDFCD?FAFG;FBCG891>?EEE:DF)6GG\tAS:i:-2\tXS:i:-2\tXN:i:0\tXM:i:1\tXO:i:0\tXG:i:0\tNM:i:1\tMD:Z:91G208\tYT:Z:UU\n",
      "\n"
     ]
    }
   ],
   "source": [
    "# read in the output_human.sam file\n",
    "infile = open(\"humangenome_align.sam\", \"r\")\n",
    "res = []\n",
    "\n",
    "for line in infile.readlines():\n",
    "    for i in greaterThanAvgPos:\n",
    "        if str(i) in line:\n",
    "            print(line)\n",
    "            res.append(line)"
   ]
  },
  {
   "cell_type": "markdown",
   "metadata": {},
   "source": [
    "#### Apply the manual blast at the NCBI \n",
    "read77943\t16\tchrY\t18485047\t1\t300M\t*\t0\t0\tTTGTAAACTCTTACAATGAACTCATAAAGTTAGAACAAAGTTAAAAATAATTGCTATCTAAGTATCAGAGTTAGAATAAATTATTCCCAAGGTTTCCCCTCACTTTAAGTTTCCCTGATTCTTGTATTTTTTACTTAAATTGGATATACAATTACTATTTTTTCATTATTTAATTCATAATACATTTGGTAAAATAATTTCTTTTTAAGTAAAACATTTAATAGTGCAGTTTGGTTCGTGTTAATTATACTTCAACGAACCCCTTATGTTACTTGCCTAGTGACAGAGTATGTGGGTAAA\t\n",
    "Result: Homo sapiens BAC clone RP11-455E3 from Y, complete sequence\n",
    "\n",
    "read334190\t16\tchr15\t30510261\t1\t300M\t*\t0\t0\tTGCCTTTTTGTAACTTAATCTCAGAAGTGACATCTGCTGTGTTCTGTATGTTAGAAGTGAGTCACTAAGTCCAGCTGAAACTCAGGGGAGGGCTTGCCTACCAGGAGGCAGGAATCACCAGGACCCATCAGAGACACCGTCTACCCCAGTCTGTGCTCGGGTCCTTCATGTCTCTCCCTCCTGAAATTTGATAGATTCTGCAAAAGAAAAAGCCTTGATCCACGCTGCTTTCTAGAATGTTGTAGTGAAAAGCAAGTCAGTGTGGTACATTCAGAGTAATTTTATAATTTTATAATTTAA\n",
    "Result: Homo sapiens BAC clone CH17-311D18 from chromosome 15, complete sequence\n",
    "\n",
    "read507912\t16\tchrY\t27170225\t1\t300M\t*\t0\t0\n",
    "ATGTCCTGTTTTTACGTGTGACAGTTGGCTGCAACCATGTGGGATGATGACAGTTATTTCTGTCAGCTGGGTTTGCATACAGGACTCACAATTTCACCTGTGTGCTGAGTGCTACATTGGTTCTGCTTGTATAACCCAAAGACTCTATAAAAGTATGTGTCAATGTTGTAATCTTTTGTGATGTTTGTACAAGAATGTGATCCATGATATCACACATGTCCCTACACCTAGTTATAAGAGCCTAAATATTCTCTATTTGCTGAGTTCACATCTAAGAGTCGTTATCATTCCTGCGAGCCT\n",
    "Result: Homo sapiens chromosome Y palindromes P1, P2, P3 and inverted repeat IR2 (P1-P2-P3-IR2@) on chromosome Y\n",
    "\n",
    "read515325\t0\tchr12\t45285619\t42\t300M\t*\t0\t0\tAATTGGGTAGAATATGGTTCCATCCCCTGCCTTGAGAGGATCTCAGAACAATATGTTTTGCTAATTATGCAAATATATTTATCAACTGTATGAGTAAAGTAGCCTATAATTTAAAGACTGAGGACTTGTTTTCAAACACATCACAGTAATGAAATGAGCCTATTCCAACAGTATATTCATGGTGCTATGGTTTCCTTTCTAAGCATGGTGATTGTTTCACACTGGGCAAGACATCTGGTGAAGTTGAGAGGCTGTCACCCAGCTGAGAGAATATGTGCATGGTTGGGAGTAGAATTTCCT\n",
    "Result:Homo sapiens 12 BAC RP11-453L7 (Roswell Park Cancer Institute Human BAC Library) complete sequence\n",
    "\n",
    "read781959\t16\tchr16\t33097974\t1\t300M\t*\t0\t0\tAGGTCAAACGAAACACCTAACATTGCTAGGGCAGCCTCCCACAACAAAGAATCCTCTGGTCCTAAAGGTAAGTAGCACCAAGATTGAGAAACCATAATCTAGACAGGAAACACTACGTAGCTATTCCAAGTGCGCAGGAAAGCACATCAGTGCCCTCGAGGGGAAAAGTGTAAACATTTTAATTGCTGTACATGGTGACACAAATCCATGTTGTTAATCTAAGTGGAAGGGGCTGAAGCACAAAACATAATTCAAAGAGTTTACTTGAGCCACAATGAGGACAGCTGCCTGGAAGAAACA\n",
    "Result:Homo sapiens chromosome 16 clone RP11-19N8, complete sequence\n",
    "\n",
    "read854980\t0\tchr7\t84306892\t42\t300M\t*\t0\t0\tTTGTGCTTTGGCAACATTTGTTGTTGTTTGTGAATCACAGCTATGTTCAGTGGTATGTGACTTGCCTCTCGGCACCCAGGAGGCATCAGCAAAAACACCTGTGGCCCAATAAACCACAATTTTTGGGTCCAGTAAATTGGTCAATACACAGCCCACACCAAAATATCACTGAATTTGGCTTTGTATATTTGGTCATTTGATAACCATTCTGCAAAACTGACCCAATTTTTACTGGTTAAAGAACAATATTGCAGGAAAGTAGAGGCAGACAGCTTTTTAAGTCCTTTAAAATGATACAAC\n",
    "Result: Homo sapiens BAC clone RP11-750F10 from 7, complete sequence\n",
    "\n",
    "read1019002\t0\tchr15\t34688969\t1\t300M\t*\t0\t0\tTATTTTAGACCTCATTCTGATCTCCCTCTCCCCGCCAACCCCACCAACTTCTGCCCTGTCATTTATCCTCATATCTCTCTGTGTAACATATTGACTTACTTTTTGGAGATAATGGTCTAACCAATTAATCCTTTCTTCTGGTGTCTAATCCATCCACTCGGTTTCTTATTTCAACAATTCCATTTTATATTTCCTTATTTCATTTTATTCTGAGACAGAGTCTCACTCTGTCACCCAGGCTGGACTGTAGTGGCACGAACCTGCAGCCCTGGCCTCCTGGGCTCAAGTGATCCTCCCACC\n",
    "Result:Select seq AC277885.1 Homo sapiens chromosome 15 clone CH17-113G17, complete sequence"
   ]
  },
  {
   "cell_type": "code",
   "execution_count": null,
   "metadata": {},
   "outputs": [],
   "source": []
  }
 ],
 "metadata": {
  "kernelspec": {
   "display_name": "Python 3",
   "language": "python",
   "name": "python3"
  },
  "language_info": {
   "codemirror_mode": {
    "name": "ipython",
    "version": 3
   },
   "file_extension": ".py",
   "mimetype": "text/x-python",
   "name": "python",
   "nbconvert_exporter": "python",
   "pygments_lexer": "ipython3",
   "version": "3.6.6"
  }
 },
 "nbformat": 4,
 "nbformat_minor": 2
}
